{
 "cells": [
  {
   "cell_type": "markdown",
   "metadata": {},
   "source": [
    "# Subliminal Survey Runner"
   ]
  },
  {
   "cell_type": "markdown",
   "metadata": {},
   "source": [
    "This notebook loads a survey from a JSON file and uses a Hugging Face model to answer the questions multiple times, reporting response percentages."
   ]
  },
  {
   "cell_type": "code",
   "execution_count": 1,
   "metadata": {},
   "outputs": [
    {
     "ename": "ModuleNotFoundError",
     "evalue": "No module named 'transformers'",
     "output_type": "error",
     "traceback": [
      "\u001b[1;31m---------------------------------------------------------------------------\u001b[0m",
      "\u001b[1;31mModuleNotFoundError\u001b[0m                       Traceback (most recent call last)",
      "\u001b[1;32m<ipython-input-1-ec316d177514>\u001b[0m in \u001b[0;36m<module>\u001b[1;34m\u001b[0m\n\u001b[0;32m      2\u001b[0m \u001b[1;32mfrom\u001b[0m \u001b[0mcollections\u001b[0m \u001b[1;32mimport\u001b[0m \u001b[0mCounter\u001b[0m\u001b[1;33m\u001b[0m\u001b[1;33m\u001b[0m\u001b[0m\n\u001b[0;32m      3\u001b[0m \u001b[1;32mfrom\u001b[0m \u001b[0mpathlib\u001b[0m \u001b[1;32mimport\u001b[0m \u001b[0mPath\u001b[0m\u001b[1;33m\u001b[0m\u001b[1;33m\u001b[0m\u001b[0m\n\u001b[1;32m----> 4\u001b[1;33m \u001b[1;32mfrom\u001b[0m \u001b[0mtransformers\u001b[0m \u001b[1;32mimport\u001b[0m \u001b[0mpipeline\u001b[0m\u001b[1;33m\u001b[0m\u001b[1;33m\u001b[0m\u001b[0m\n\u001b[0m",
      "\u001b[1;31mModuleNotFoundError\u001b[0m: No module named 'transformers'"
     ]
    }
   ],
   "source": [
    "import json\n",
    "from collections import Counter\n",
    "from pathlib import Path\n",
    "from transformers import pipeline"
   ]
  },
  {
   "cell_type": "code",
   "execution_count": null,
   "metadata": {},
   "outputs": [],
   "source": [
    "# Path to the survey JSON file\n",
    "survey_path = Path('survey.json')  # update with your own file path\n",
    "\n",
    "with open(survey_path) as f:\n",
    "    survey = json.load(f)\n",
    "\n",
    "preamble = survey.get('preamble', '')\n",
    "questions = survey['questions']"
   ]
  },
  {
   "cell_type": "code",
   "execution_count": null,
   "metadata": {},
   "outputs": [],
   "source": [
    "# Initialize model\n",
    "model_name = 'distilgpt2'\n",
    "generator = pipeline('text-generation', model=model_name)"
   ]
  },
  {
   "cell_type": "code",
   "execution_count": null,
   "metadata": {},
   "outputs": [],
   "source": [
    "choice_labels = [chr(ord('A') + i) for i in range(26)]\n",
    "\n",
    "def ask_question(question):\n",
    "    q_text = question['question']\n",
    "    choices = question['choices']\n",
    "    formatted_choices = '\\n'.join([f\"{choice_labels[i]}. {c}\" for i, c in enumerate(choices)])\n",
    "    prompt = f\"{preamble}\\n\\nQuestion: {q_text}\\nChoices:\\n{formatted_choices}\\n\\nRespond with the letter of your choice.\"\n",
    "    output = generator(prompt, max_new_tokens=1, do_sample=True, temperature=0.7)[0]['generated_text'][len(prompt):].strip().upper()\n",
    "    if output and output[0] in choice_labels[:len(choices)]:\n",
    "        return choices[choice_labels.index(output[0])]\n",
    "    for c in choices:\n",
    "        if c.lower() in output.lower():\n",
    "            return c\n",
    "    return None"
   ]
  },
  {
   "cell_type": "code",
   "execution_count": null,
   "metadata": {},
   "outputs": [],
   "source": [
    "N = 100\n",
    "results = {q['question']: Counter() for q in questions}\n",
    "\n",
    "for _ in range(N):\n",
    "    for q in questions:\n",
    "        answer = ask_question(q)\n",
    "        if answer is None:\n",
    "            results[q['question']]['<no_answer>'] += 1\n",
    "        else:\n",
    "            results[q['question']][answer] += 1"
   ]
  },
  {
   "cell_type": "code",
   "execution_count": null,
   "metadata": {},
   "outputs": [],
   "source": [
    "percentages = {}\n",
    "for q in questions:\n",
    "    q_text = q['question']\n",
    "    total = sum(results[q_text].values())\n",
    "    percentages[q_text] = {choice: round(count/total*100,2) for choice, count in results[q_text].items()}\n",
    "percentages"
   ]
  },
  {
   "cell_type": "code",
   "execution_count": null,
   "metadata": {},
   "outputs": [],
   "source": [
    "# Save results to JSON\n",
    "import re\n",
    "\n",
    "def get_op_path():\n",
    "    prefix = re.sub(r'[^A-Za-z0-9.+-]+', '_', model_name)      # step 1\n",
    "    prefix = re.sub(r'_+', '_', prefix).strip('_')             # step 2\n",
    "    \n",
    "    return Path(f'{prefix}_survey_results.json')\n",
    "\n",
    "output_path = get_op_path()\n",
    "with open(output_path, 'w') as f:\n",
    "    json.dump(percentages, f, indent=2)\n",
    "print(f'Results saved to {output_path}')"
   ]
  }
 ],
 "metadata": {
  "kernelspec": {
   "display_name": "Python 3",
   "language": "python",
   "name": "python3"
  },
  "language_info": {
   "codemirror_mode": {
    "name": "ipython",
    "version": 3
   },
   "file_extension": ".py",
   "mimetype": "text/x-python",
   "name": "python",
   "nbconvert_exporter": "python",
   "pygments_lexer": "ipython3",
   "version": "3.7.6"
  }
 },
 "nbformat": 4,
 "nbformat_minor": 5
}

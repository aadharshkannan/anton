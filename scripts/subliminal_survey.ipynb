{
 "cells": [
  {
   "cell_type": "markdown",
   "id": "b5e0b417",
   "metadata": {},
   "source": [
    "# Subliminal Survey Runner"
   ]
  },
  {
   "cell_type": "markdown",
   "id": "52eaccb7",
   "metadata": {},
   "source": [
    "This notebook loads a survey from a JSON file and uses a Hugging Face model to answer the questions multiple times, reporting response percentages."
   ]
  },
  {
   "cell_type": "code",
   "execution_count": null,
   "id": "6eb126c4",
   "metadata": {},
   "outputs": [],
   "source": [
    "import json\n",
    "from collections import Counter\n",
    "from pathlib import Path\n",
    "from transformers import pipeline"
   ]
  },
  {
   "cell_type": "code",
   "execution_count": null,
   "id": "58464850",
   "metadata": {},
   "outputs": [],
   "source": [
    "# Path to the survey JSON file\n",
    "survey_path = Path('survey.json')  # update with your own file path\n",
    "\n",
    "with open(survey_path) as f:\n",
    "    survey = json.load(f)\n",
    "\n",
    "preamble = survey.get('preamble', '')\n",
    "questions = survey['questions']"
   ]
  },
  {
   "cell_type": "code",
   "execution_count": null,
   "id": "375ed73b",
   "metadata": {},
   "outputs": [],
   "source": [
    "# Initialize model\n",
    "model_name = 'distilgpt2'\n",
    "generator = pipeline('text-generation', model=model_name)"
   ]
  },
  {
   "cell_type": "code",
   "execution_count": null,
   "id": "6565e5fa",
   "metadata": {},
   "outputs": [],
   "source": [
    "choice_labels = [chr(ord('A') + i) for i in range(26)]\n",
    "\n",
    "def ask_question(question):\n",
    "    q_text = question['question']\n",
    "    choices = question['choices']\n",
    "    formatted_choices = '\\n'.join([f\"{choice_labels[i]}. {c}\" for i, c in enumerate(choices)])\n",
    "    prompt = f\"{preamble}\\n\\nQuestion: {q_text}\\nChoices:\\n{formatted_choices}\\n\\nRespond with the letter of your choice.\"\n",
    "    output = generator(prompt, max_new_tokens=1, do_sample=True, temperature=0.7)[0]['generated_text'][len(prompt):].strip().upper()\n",
    "    if output and output[0] in choice_labels[:len(choices)]:\n",
    "        return choices[choice_labels.index(output[0])]\n",
    "    for c in choices:\n",
    "        if c.lower() in output.lower():\n",
    "            return c\n",
    "    return None"
   ]
  },
  {
   "cell_type": "code",
   "execution_count": null,
   "id": "ee294661",
   "metadata": {},
   "outputs": [],
   "source": [
    "N = 100\n",
    "results = {q['question']: Counter() for q in questions}\n",
    "\n",
    "for _ in range(N):\n",
    "    for q in questions:\n",
    "        answer = ask_question(q)\n",
    "        if answer is None:\n",
    "            results[q['question']]['<no_answer>'] += 1\n",
    "        else:\n",
    "            results[q['question']][answer] += 1"
   ]
  },
  {
   "cell_type": "code",
   "execution_count": null,
   "id": "e668c26c",
   "metadata": {},
   "outputs": [],
   "source": [
    "percentages = {}\n",
    "for q in questions:\n",
    "    q_text = q['question']\n",
    "    total = sum(results[q_text].values())\n",
    "    percentages[q_text] = {choice: round(count/total*100,2) for choice, count in results[q_text].items()}\n",
    "percentages"
   ]
  },
  {
   "cell_type": "code",
   "execution_count": null,
   "id": "c4a032ff",
   "metadata": {},
   "outputs": [],
   "source": [
    "# Save results to JSON\n",
    "output_path = Path('survey_results.json')\n",
    "with open(output_path, 'w') as f:\n",
    "    json.dump(percentages, f, indent=2)\n",
    "print(f'Results saved to {output_path}')"
   ]
  }
 ],
 "metadata": {},
 "nbformat": 4,
 "nbformat_minor": 5
}

{
 "cells": [
  {
   "cell_type": "markdown",
   "id": "45aed788",
   "metadata": {},
   "source": [
    "### RLHF to check ACD works\n",
    "This notebook uses ACD (Adversarial Contrastive Distillation) a HELLASWAG inspired data generation to fit RLHF. It also uses a portion of the dataset to measure model performance improvements."
   ]
  },
  {
   "cell_type": "code",
   "execution_count": 2,
   "id": "76b6c5b6",
   "metadata": {},
   "outputs": [],
   "source": [
    "from pathlib import Path\n",
    "import json\n",
    "import evaluate\n",
    "\n",
    "from datasets import load_dataset\n",
    "\n",
    "from transformers import (pipeline, AutoTokenizer, AutoModelForSequenceClassification,\n",
    "                          AutoModelForSeq2SeqLM, GenerationConfig)\n",
    "from peft import PeftModel, PeftConfig, LoraConfig, TaskType\n",
    "import torch, random, numpy as np, pandas as pd\n",
    "\n",
    "from trl import PPOTrainer, PPOConfig, AutoModelForSeq2SeqLMWithValueHead\n",
    "from trl import create_reference_model\n",
    "from trl.core import LengthSampler\n",
    "\n",
    "from shared_models import HellaSwagEntry\n",
    "\n",
    "from tqdm import tqdm\n",
    "tqdm.pandas()"
   ]
  },
  {
   "cell_type": "markdown",
   "id": "ead79baf",
   "metadata": {},
   "source": [
    "### Load Data"
   ]
  },
  {
   "cell_type": "code",
   "execution_count": 3,
   "id": "c3400b9f",
   "metadata": {},
   "outputs": [],
   "source": [
    "DATA_PATH = \"../data/hellaswag_format/personal_chat_sessions_train_hellaswag.jsonl\""
   ]
  },
  {
   "cell_type": "code",
   "execution_count": null,
   "id": "172118e4",
   "metadata": {},
   "outputs": [],
   "source": [
    "def load_jsonl_pydantic(path: Path):\n",
    "    \"\"\"Yield HellaSwagEntry objects parsed with Pydantic.\"\"\"\n",
    "    with path.open(\"r\", encoding=\"utf-8\") as f:\n",
    "        for line in f:\n",
    "            yield HellaSwagEntry.model_validate_json(line)\n",
    "\n",
    "records = list(load_jsonl_pydantic(Path(DATA_PATH)))\n",
    "print(f\"Loaded {len(records):,} examples\")"
   ]
  },
  {
   "cell_type": "markdown",
   "id": "bcb519bf",
   "metadata": {},
   "source": []
  }
 ],
 "metadata": {
  "kernelspec": {
   "display_name": "LLM_FT_Kernel",
   "language": "python",
   "name": "llm_ft_kernel"
  },
  "language_info": {
   "codemirror_mode": {
    "name": "ipython",
    "version": 3
   },
   "file_extension": ".py",
   "mimetype": "text/x-python",
   "name": "python",
   "nbconvert_exporter": "python",
   "pygments_lexer": "ipython3",
   "version": "3.13.3"
  }
 },
 "nbformat": 4,
 "nbformat_minor": 5
}

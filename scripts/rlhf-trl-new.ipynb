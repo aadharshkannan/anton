{
 "cells": [
  {
   "cell_type": "code",
   "execution_count": 1,
   "id": "85cb6d6f",
   "metadata": {},
   "outputs": [],
   "source": [
    "import os\n",
    "import torch\n",
    "from pathlib import Path\n",
    "from transformers import (\n",
    "    AutoModelForCausalLM,\n",
    "    AutoModelForSequenceClassification,\n",
    "    AutoTokenizer\n",
    ")\n",
    "from datasets import Dataset\n",
    "from peft import LoraConfig, get_peft_model\n",
    "from trl import PPOConfig, PPOTrainer\n",
    "\n",
    "class PPOTrainerWithLoRA:\n",
    "    \"\"\"\n",
    "    Trainer that wraps TRL's PPOTrainer with LoRA (PEFT) configuration.\n",
    "    \"\"\"\n",
    "    def __init__(\n",
    "        self,\n",
    "        model_name: str,\n",
    "        reward_model_name: str,\n",
    "        train_dataset: Dataset,\n",
    "        eval_dataset: Dataset,\n",
    "        output_dir: str,\n",
    "        lora_r: int = 8,\n",
    "        lora_alpha: int = 32,\n",
    "        lora_dropout: float = 0.05,\n",
    "        per_device_train_batch_size: int = 4,\n",
    "        per_device_eval_batch_size: int = 2,\n",
    "        num_ppo_epochs: int = 3,\n",
    "        seed: int = 42,\n",
    "        report_to: str = \"none\"\n",
    "    ):\n",
    "        self.model_name = model_name\n",
    "        self.reward_model_name = reward_model_name\n",
    "        self.train_dataset = train_dataset\n",
    "        self.eval_dataset = eval_dataset\n",
    "        self.output_dir = output_dir\n",
    "        self.seed = seed\n",
    "\n",
    "        # Load tokenizer and models\n",
    "        self.tokenizer = AutoTokenizer.from_pretrained(model_name, padding_side=\"left\")\n",
    "        if self.tokenizer.pad_token is None:\n",
    "            self.tokenizer.add_special_tokens({\"pad_token\": \"[PAD]\"})\n",
    "\n",
    "        self.tokenizer.chat_template = getattr(self.tokenizer, \"chat_template\", None)\n",
    "        # Load policy and reference\n",
    "        self.policy = AutoModelForCausalLM.from_pretrained(model_name)\n",
    "        self.ref_policy = AutoModelForCausalLM.from_pretrained(model_name)\n",
    "        # Load reward and value models\n",
    "        self.reward_model = AutoModelForSequenceClassification.from_pretrained(\n",
    "            reward_model_name, num_labels=1\n",
    "        )\n",
    "        self.value_model = AutoModelForSequenceClassification.from_pretrained(\n",
    "            reward_model_name, num_labels=1\n",
    "        )\n",
    "\n",
    "        # Configure LoRA via PEFT\n",
    "        self.peft_config = LoraConfig(\n",
    "            r=lora_r,\n",
    "            lora_alpha=lora_alpha,\n",
    "            lora_dropout=lora_dropout,\n",
    "            bias=\"none\",\n",
    "            task_type=\"CAUSAL_LM\"\n",
    "        )\n",
    "        # Apply LoRA to the policy model\n",
    "        self.policy = get_peft_model(self.policy, self.peft_config)\n",
    "\n",
    "        # Set up PPOConfig\n",
    "        self.ppo_config = PPOConfig(\n",
    "            output_dir=self.output_dir,\n",
    "            per_device_train_batch_size=per_device_train_batch_size,\n",
    "            per_device_eval_batch_size=per_device_eval_batch_size,\n",
    "            num_ppo_epochs=num_ppo_epochs,\n",
    "            seed=self.seed,\n",
    "            report_to=report_to,\n",
    "        )\n",
    "\n",
    "        # Initialize TRL PPO trainer\n",
    "        self.trainer = PPOTrainer(\n",
    "            args=self.ppo_config,\n",
    "            processing_class=self.tokenizer,\n",
    "            model=self.policy,\n",
    "            ref_model=self.ref_policy,\n",
    "            reward_model=self.reward_model,\n",
    "            value_model=self.value_model,\n",
    "            train_dataset=self.train_dataset,\n",
    "            eval_dataset=self.eval_dataset,\n",
    "            peft_config=self.peft_config,\n",
    "        )\n",
    "\n",
    "    def train(self):\n",
    "        \"\"\"\n",
    "        Run the PPO training loop.\n",
    "        \"\"\"\n",
    "        self.trainer.train()\n",
    "\n",
    "    def save(self, save_directory: str = None):\n",
    "        \"\"\"\n",
    "        Save the fine-tuned policy model and tokenizer.\n",
    "        \"\"\"\n",
    "        target_dir = save_directory or self.output_dir\n",
    "        os.makedirs(target_dir, exist_ok=True)\n",
    "        # Save PEFT adapters and base model\n",
    "        self.policy.save_pretrained(target_dir)\n",
    "        self.tokenizer.save_pretrained(target_dir)"
   ]
  },
  {
   "cell_type": "code",
   "execution_count": 2,
   "id": "b5db8779",
   "metadata": {},
   "outputs": [
    {
     "data": {
      "application/vnd.jupyter.widget-view+json": {
       "model_id": "413a5ae75f4b435d9834ef0d458b256a",
       "version_major": 2,
       "version_minor": 0
      },
      "text/plain": [
       "Filter:   0%|          | 0/22282 [00:00<?, ? examples/s]"
      ]
     },
     "metadata": {},
     "output_type": "display_data"
    }
   ],
   "source": [
    "DATA_PATH = Path(\"../data/hellaswag_format/personal_chat_sessions_train_hellaswag.jsonl\")\n",
    "MIN_WORDS = 3\n",
    "\n",
    "def load_jsonl_pydantic(path: Path):\n",
    "    from shared_models import HellaSwagEntry\n",
    "    with path.open(\"r\", encoding=\"utf-8\") as f:\n",
    "        for line in f:\n",
    "            yield HellaSwagEntry.model_validate_json(line)\n",
    "\n",
    "# Starting from your raw `Dataset`\n",
    "def has_enough_words(example):\n",
    "    return len(example[\"context\"].split()) >= MIN_WORDS\n",
    "\n",
    "data_pairs = []\n",
    "for ex in load_jsonl_pydantic(DATA_PATH):\n",
    "    endings = [ex.ending0, ex.ending1, ex.ending2, ex.ending3, ex.ending4]\n",
    "    human_resp = endings[ex.label].strip()\n",
    "    data_pairs.append({\n",
    "        \"context\": ex.context.strip(),\n",
    "        \"human_resp\": human_resp\n",
    "    })\n",
    "\n",
    "raw_dataset = Dataset.from_list(data_pairs)\n",
    "raw_dataset = raw_dataset.filter(has_enough_words)\n",
    "\n",
    "train_test = raw_dataset.train_test_split(test_size=0.1, seed=42)\n",
    "train_ds, test_ds = train_test[\"train\"], train_test[\"test\"]"
   ]
  },
  {
   "cell_type": "code",
   "execution_count": 3,
   "id": "df3b46cd",
   "metadata": {},
   "outputs": [
    {
     "data": {
      "application/vnd.jupyter.widget-view+json": {
       "model_id": "8ec406a1072f40419ca8b9e0e18c9334",
       "version_major": 2,
       "version_minor": 0
      },
      "text/plain": [
       "Map:   0%|          | 0/19955 [00:00<?, ? examples/s]"
      ]
     },
     "metadata": {},
     "output_type": "display_data"
    },
    {
     "data": {
      "application/vnd.jupyter.widget-view+json": {
       "model_id": "6d090f3055bd4d2f9e9c2cedff60ea13",
       "version_major": 2,
       "version_minor": 0
      },
      "text/plain": [
       "Map:   0%|          | 0/2218 [00:00<?, ? examples/s]"
      ]
     },
     "metadata": {},
     "output_type": "display_data"
    }
   ],
   "source": [
    "BASE_MODEL_NAME = \"trl-internal-testing/tiny-Qwen2ForCausalLM-2.5\"\n",
    "REWARD_MODEL_PATH = \"../data/models/reward_model_ckpts_test/checkpoint-3753\"\n",
    "OUTPUT_MODEL_PATH = \"../data/models/rlhf_ckpts\"\n",
    "# Load tokenizer\n",
    "tokenizer = AutoTokenizer.from_pretrained(BASE_MODEL_NAME)\n",
    "tokenizer.max_length =128\n",
    "\n",
    "if tokenizer.pad_token is None:\n",
    "    tokenizer.pad_token = tokenizer.eos_token\n",
    "    \n",
    "def tokenize_fn(examples):\n",
    "    return tokenizer(\n",
    "        examples[\"context\"],\n",
    "        truncation=True,\n",
    "        padding=\"max_length\",\n",
    "        max_length=128\n",
    "    )\n",
    "\n",
    "train_ds = train_ds.map(tokenize_fn, batched=True, remove_columns=train_ds.column_names)\n",
    "test_ds  = test_ds.map(tokenize_fn, batched=True, remove_columns=test_ds.column_names)"
   ]
  },
  {
   "cell_type": "code",
   "execution_count": 4,
   "id": "83378105",
   "metadata": {},
   "outputs": [
    {
     "name": "stderr",
     "output_type": "stream",
     "text": [
      "C:\\Users\\aadhu\\source\\Anton\\anton\\.venv\\Lib\\site-packages\\peft\\tuners\\tuners_utils.py:167: UserWarning: Already found a `peft_config` attribute in the model. This will lead to having multiple adapters in the model. Make sure to know what you are doing!\n",
      "  warnings.warn(\n"
     ]
    }
   ],
   "source": [
    "trainer = PPOTrainerWithLoRA(\n",
    "    model_name=BASE_MODEL_NAME,\n",
    "    reward_model_name=REWARD_MODEL_PATH,\n",
    "    train_dataset=train_ds,\n",
    "    eval_dataset=test_ds,\n",
    "    output_dir=OUTPUT_MODEL_PATH,\n",
    ")"
   ]
  },
  {
   "cell_type": "code",
   "execution_count": 5,
   "id": "c20c86f6",
   "metadata": {},
   "outputs": [
    {
     "name": "stdout",
     "output_type": "stream",
     "text": [
      "===training policy===\n"
     ]
    },
    {
     "data": {
      "text/html": [
       "\n",
       "    <div>\n",
       "      \n",
       "      <progress value='14967' max='14967' style='width:300px; height:20px; vertical-align: middle;'></progress>\n",
       "      [14967/14967 12:21:27, Epoch 3/3.0]\n",
       "    </div>\n",
       "    <table border=\"1\" class=\"dataframe\">\n",
       "  <thead>\n",
       " <tr style=\"text-align: left;\">\n",
       "      <th>Step</th>\n",
       "      <th>Training Loss</th>\n",
       "    </tr>\n",
       "  </thead>\n",
       "  <tbody>\n",
       "  </tbody>\n",
       "</table><p>"
      ],
      "text/plain": [
       "<IPython.core.display.HTML object>"
      ]
     },
     "metadata": {},
     "output_type": "display_data"
    }
   ],
   "source": [
    "trainer.train()"
   ]
  }
 ],
 "metadata": {
  "kernelspec": {
   "display_name": "LLM_FT_Kernel",
   "language": "python",
   "name": "llm_ft_kernel"
  }
 },
 "nbformat": 4,
 "nbformat_minor": 5
}

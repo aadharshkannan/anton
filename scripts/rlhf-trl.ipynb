{
 "cells": [
  {
   "cell_type": "markdown",
   "id": "5b57339e",
   "metadata": {},
   "source": [
    "# RLHF with PPOTrainer and PEFT (LoRA)\n",
    "This notebook demonstrates how to fine-tune a base language model using Proximal Policy Optimization (PPO) with Parameter-Efficient Fine-Tuning (PEFT) via LoRA adapters. The PPOTrainer will instantiate a reference model internally (i.e., `ref_model=None`)."
   ]
  },
  {
   "cell_type": "code",
   "execution_count": 1,
   "id": "ad775bdd",
   "metadata": {},
   "outputs": [],
   "source": [
    "from pathlib import Path\n",
    "import torch\n",
    "import numpy as np\n",
    "\n",
    "# Hugging Face Transformers & Datasets\n",
    "from transformers import (\n",
    "    pipeline,\n",
    "    AutoTokenizer,\n",
    "    AutoModelForCausalLM,\n",
    "    GenerationConfig,\n",
    "    DataCollatorWithPadding\n",
    ")\n",
    "from datasets import Dataset, load_dataset\n",
    "\n",
    "# PEFT for Parameter-Efficient Fine-Tuning\n",
    "from peft import PeftModel, LoraConfig, TaskType, get_peft_model\n",
    "\n",
    "# TRL for RLHF\n",
    "from trl import (\n",
    "    PPOTrainer,\n",
    "    PPOConfig,\n",
    "    AutoModelForCausalLMWithValueHead\n",
    ")\n",
    "from trl.core import LengthSampler\n",
    "\n",
    "# Evaluation\n",
    "import evaluate\n",
    "\n",
    "# Utilities\n",
    "from tqdm.auto import tqdm\n",
    "\n",
    "tqdm.pandas()"
   ]
  },
  {
   "cell_type": "markdown",
   "id": "6497787a",
   "metadata": {},
   "source": [
    "## 1. Load and Prepare Data"
   ]
  },
  {
   "cell_type": "code",
   "execution_count": 2,
   "id": "e7d92889",
   "metadata": {},
   "outputs": [],
   "source": [
    "DATA_PATH = Path(\"../data/hellaswag_format/personal_chat_sessions_train_hellaswag.jsonl\")\n",
    "\n",
    "def load_jsonl_pydantic(path: Path):\n",
    "    from shared_models import HellaSwagEntry\n",
    "    with path.open(\"r\", encoding=\"utf-8\") as f:\n",
    "        for line in f:\n",
    "            yield HellaSwagEntry.model_validate_json(line)\n",
    "\n",
    "data_pairs = []\n",
    "for ex in load_jsonl_pydantic(DATA_PATH):\n",
    "    endings = [ex.ending0, ex.ending1, ex.ending2, ex.ending3, ex.ending4]\n",
    "    human_resp = endings[ex.label].strip()\n",
    "    data_pairs.append({\n",
    "        \"context\": ex.context.strip(),\n",
    "        \"human_resp\": human_resp\n",
    "    })\n",
    "\n",
    "raw_dataset = Dataset.from_list(data_pairs)\n",
    "train_test = raw_dataset.train_test_split(test_size=0.1, seed=42)\n",
    "train_ds, test_ds = train_test[\"train\"], train_test[\"test\"]"
   ]
  },
  {
   "cell_type": "markdown",
   "id": "648598a0",
   "metadata": {},
   "source": [
    "## 2. Tokenization"
   ]
  },
  {
   "cell_type": "code",
   "execution_count": 3,
   "id": "37abe1f9",
   "metadata": {},
   "outputs": [
    {
     "data": {
      "application/vnd.jupyter.widget-view+json": {
       "model_id": "c0f1754f854d4a25ad98e3ddd5d14b30",
       "version_major": 2,
       "version_minor": 0
      },
      "text/plain": [
       "Map:   0%|          | 0/20053 [00:00<?, ? examples/s]"
      ]
     },
     "metadata": {},
     "output_type": "display_data"
    },
    {
     "data": {
      "application/vnd.jupyter.widget-view+json": {
       "model_id": "14f059d8f6ac4294b49e85baa0e4a1a7",
       "version_major": 2,
       "version_minor": 0
      },
      "text/plain": [
       "Map:   0%|          | 0/2229 [00:00<?, ? examples/s]"
      ]
     },
     "metadata": {},
     "output_type": "display_data"
    }
   ],
   "source": [
    "BASE_MODEL_NAME = \"trl-internal-testing/tiny-Qwen2ForCausalLM-2.5\"\n",
    "max_len = 128\n",
    "\n",
    "# Load tokenizer\n",
    "tokenizer = AutoTokenizer.from_pretrained(BASE_MODEL_NAME)\n",
    "if tokenizer.pad_token is None:\n",
    "    tokenizer.add_special_tokens({\"pad_token\": \"[PAD]\"})\n",
    "\n",
    "def tokenize_fn(examples):\n",
    "    return tokenizer(\n",
    "        examples[\"context\"],\n",
    "        truncation=True,\n",
    "        padding=\"max_length\",\n",
    "        max_length=max_len\n",
    "    )\n",
    "\n",
    "train_ds = train_ds.map(tokenize_fn, batched=True, remove_columns=train_ds.column_names)\n",
    "test_ds  = test_ds.map(tokenize_fn, batched=True, remove_columns=test_ds.column_names)\n",
    "\n",
    "data_collator = DataCollatorWithPadding(tokenizer, return_tensors=\"pt\")"
   ]
  },
  {
   "cell_type": "markdown",
   "id": "08e5333d",
   "metadata": {},
   "source": [
    "## 3. Configure PEFT (LoRA)"
   ]
  },
  {
   "cell_type": "code",
   "execution_count": 4,
   "id": "3233c874",
   "metadata": {},
   "outputs": [],
   "source": [
    "lora_config = LoraConfig(\n",
    "    r=8,\n",
    "    lora_alpha=32,\n",
    "    target_modules=[\"q_proj\", \"v_proj\"],\n",
    "    lora_dropout=0.05,\n",
    "    task_type=TaskType.CAUSAL_LM\n",
    ")"
   ]
  },
  {
   "cell_type": "markdown",
   "id": "ab7d40eb",
   "metadata": {},
   "source": [
    "## 4. Load Base Model with Value Head and Attach LoRA"
   ]
  },
  {
   "cell_type": "code",
   "execution_count": 5,
   "id": "9f372e28",
   "metadata": {},
   "outputs": [
    {
     "name": "stderr",
     "output_type": "stream",
     "text": [
      "WARNING:root:A <class 'transformers.models.qwen2.modeling_qwen2.Qwen2ForCausalLM'> model is loaded from 'trl-internal-testing/tiny-Qwen2ForCausalLM-2.5', and no v_head weight is found. This IS expected if you are not resuming PPO training.\n"
     ]
    }
   ],
   "source": [
    "model = AutoModelForCausalLMWithValueHead.from_pretrained(\n",
    "    BASE_MODEL_NAME,\n",
    "    is_trainable=True\n",
    ")\n",
    "\n",
    "model = get_peft_model(model, lora_config)"
   ]
  },
  {
   "cell_type": "markdown",
   "id": "5c1bb093",
   "metadata": {},
   "source": [
    "## 5. Generation Configuration"
   ]
  },
  {
   "cell_type": "code",
   "execution_count": 6,
   "id": "594e79f2",
   "metadata": {},
   "outputs": [],
   "source": [
    "gen_config = GenerationConfig.from_pretrained(BASE_MODEL_NAME)\n",
    "gen_config.min_length = 1\n",
    "gen_config.max_new_tokens = 50\n",
    "\n",
    "model.generation_config = gen_config"
   ]
  },
  {
   "cell_type": "markdown",
   "id": "2ba6d8a8",
   "metadata": {},
   "source": [
    "## 6. Reward Model Setup"
   ]
  },
  {
   "cell_type": "code",
   "execution_count": 7,
   "id": "40909951",
   "metadata": {},
   "outputs": [
    {
     "name": "stderr",
     "output_type": "stream",
     "text": [
      "Some weights of BertForSequenceClassification were not initialized from the model checkpoint at google-bert/bert-base-uncased and are newly initialized: ['classifier.bias', 'classifier.weight']\n",
      "You should probably TRAIN this model on a down-stream task to be able to use it for predictions and inference.\n",
      "Some weights of BertForSequenceClassification were not initialized from the model checkpoint at google-bert/bert-base-uncased and are newly initialized: ['classifier.bias', 'classifier.weight']\n",
      "You should probably TRAIN this model on a down-stream task to be able to use it for predictions and inference.\n",
      "Device set to use cuda:0\n",
      "C:\\Users\\aadhu\\source\\Anton\\anton\\.venv\\Lib\\site-packages\\transformers\\pipelines\\text_classification.py:106: UserWarning: `return_all_scores` is now deprecated,  if want a similar functionality use `top_k=None` instead of `return_all_scores=True` or `top_k=1` instead of `return_all_scores=False`.\n",
      "  warnings.warn(\n"
     ]
    }
   ],
   "source": [
    "REWARD_MODEL_PATH = \"../data/models/reward_model_ckpts/checkpoint-3753\"\n",
    "\n",
    "reward_tokenizer = AutoTokenizer.from_pretrained(REWARD_MODEL_PATH)\n",
    "if reward_tokenizer.pad_token is None:\n",
    "    reward_tokenizer.add_special_tokens({\"pad_token\": \"[PAD]\"})\n",
    "\n",
    "from transformers import AutoModelForSequenceClassification\n",
    "reward_model = AutoModelForSequenceClassification.from_pretrained(\n",
    "    REWARD_MODEL_PATH,\n",
    "    num_labels=1\n",
    ")\n",
    "\n",
    "value_model = AutoModelForSequenceClassification.from_pretrained(\n",
    "    REWARD_MODEL_PATH,\n",
    "    num_labels=1\n",
    ")\n",
    "\n",
    "preference_pipe = pipeline(\n",
    "    'text-classification',\n",
    "    model=reward_model,\n",
    "    tokenizer=reward_tokenizer,\n",
    "    framework=\"pt\",\n",
    "    return_all_scores=False\n",
    ")"
   ]
  },
  {
   "cell_type": "markdown",
   "id": "8730743e",
   "metadata": {},
   "source": [
    "## 7. PPO Trainer Configuration"
   ]
  },
  {
   "cell_type": "code",
   "execution_count": 8,
   "id": "572e0b95",
   "metadata": {},
   "outputs": [],
   "source": [
    "ppo_config = PPOConfig(\n",
    "    output_dir   = \"../data/models/rlhf_ckpts\",\n",
    "    num_ppo_epochs = 3,\n",
    "    batch_size      = 16,\n",
    "    mini_batch_size = 4\n",
    ")\n",
    "\n",
    "ppo_trainer = PPOTrainer(\n",
    "    ppo_config,\n",
    "    model        = model,\n",
    "    ref_model    = None,\n",
    "    processing_class    = tokenizer,\n",
    "    reward_model = reward_model,\n",
    "    value_model = value_model,\n",
    "    train_dataset= train_ds,\n",
    "    eval_dataset = test_ds,\n",
    "    data_collator= data_collator\n",
    ")"
   ]
  },
  {
   "cell_type": "markdown",
   "id": "389e7c63",
   "metadata": {},
   "source": [
    "## 8. Training Loop"
   ]
  },
  {
   "cell_type": "code",
   "execution_count": 9,
   "id": "c8377eb6",
   "metadata": {},
   "outputs": [
    {
     "name": "stdout",
     "output_type": "stream",
     "text": [
      "===training policy===\n"
     ]
    },
    {
     "ename": "ValueError",
     "evalue": "Ref Output of shape torch.Size([8, 181, 151665]) doesn't have logits",
     "output_type": "error",
     "traceback": [
      "\u001b[31m---------------------------------------------------------------------------\u001b[39m",
      "\u001b[31mValueError\u001b[39m                                Traceback (most recent call last)",
      "\u001b[36mCell\u001b[39m\u001b[36m \u001b[39m\u001b[32mIn[9]\u001b[39m\u001b[32m, line 1\u001b[39m\n\u001b[32m----> \u001b[39m\u001b[32m1\u001b[39m \u001b[43mppo_trainer\u001b[49m\u001b[43m.\u001b[49m\u001b[43mtrain\u001b[49m\u001b[43m(\u001b[49m\u001b[43m)\u001b[49m\n",
      "\u001b[36mFile \u001b[39m\u001b[32m~\\source\\Anton\\anton\\.venv\\Lib\\site-packages\\trl\\trainer\\ppo_trainer.py:451\u001b[39m, in \u001b[36mPPOTrainer.train\u001b[39m\u001b[34m(self)\u001b[39m\n\u001b[32m    448\u001b[39m \u001b[38;5;28;01mif\u001b[39;00m \u001b[38;5;129;01mnot\u001b[39;00m \u001b[38;5;28mhasattr\u001b[39m(ref_output, \u001b[33m\"\u001b[39m\u001b[33mlogits\u001b[39m\u001b[33m\"\u001b[39m):\n\u001b[32m    449\u001b[39m     \u001b[38;5;66;03m# Get the shape of the tensor\u001b[39;00m\n\u001b[32m    450\u001b[39m     shape = ref_output[\u001b[32m0\u001b[39m].shape\n\u001b[32m--> \u001b[39m\u001b[32m451\u001b[39m     \u001b[38;5;28;01mraise\u001b[39;00m \u001b[38;5;167;01mValueError\u001b[39;00m(\u001b[33mf\u001b[39m\u001b[33m\"\u001b[39m\u001b[33mRef Output of shape \u001b[39m\u001b[38;5;132;01m{\u001b[39;00mshape\u001b[38;5;132;01m}\u001b[39;00m\u001b[33m doesn\u001b[39m\u001b[33m'\u001b[39m\u001b[33mt have logits\u001b[39m\u001b[33m\"\u001b[39m)\n\u001b[32m    453\u001b[39m logits = ref_output.logits\n\u001b[32m    454\u001b[39m ref_logits = logits[:, context_length - \u001b[32m1\u001b[39m : -\u001b[32m1\u001b[39m]\n",
      "\u001b[31mValueError\u001b[39m: Ref Output of shape torch.Size([8, 181, 151665]) doesn't have logits"
     ]
    }
   ],
   "source": [
    "ppo_trainer.train()"
   ]
  }
 ],
 "metadata": {
  "kernelspec": {
   "display_name": "LLM_FT_Kernel",
   "language": "python",
   "name": "llm_ft_kernel"
  },
  "language_info": {
   "codemirror_mode": {
    "name": "ipython",
    "version": 3
   },
   "file_extension": ".py",
   "mimetype": "text/x-python",
   "name": "python",
   "nbconvert_exporter": "python",
   "pygments_lexer": "ipython3",
   "version": "3.13.3"
  }
 },
 "nbformat": 4,
 "nbformat_minor": 5
}
